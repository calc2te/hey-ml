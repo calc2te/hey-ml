{
 "cells": [
  {
   "cell_type": "markdown",
   "metadata": {},
   "source": [
    "## Linear Regression 의 cost 최소화"
   ]
  },
  {
   "cell_type": "code",
   "execution_count": 1,
   "metadata": {
    "collapsed": true
   },
   "outputs": [],
   "source": [
    "import tensorflow as tf\n",
    "import matplotlib.pyplot as plt"
   ]
  },
  {
   "cell_type": "code",
   "execution_count": 2,
   "metadata": {
    "collapsed": true
   },
   "outputs": [],
   "source": [
    "X = [1, 2, 3]\n",
    "Y = [1, 2, 3]"
   ]
  },
  {
   "cell_type": "code",
   "execution_count": 3,
   "metadata": {
    "collapsed": true
   },
   "outputs": [],
   "source": [
    "W = tf.placeholder(tf.float32)"
   ]
  },
  {
   "cell_type": "code",
   "execution_count": 4,
   "metadata": {
    "collapsed": true
   },
   "outputs": [],
   "source": [
    "hypothesis = X * W"
   ]
  },
  {
   "cell_type": "code",
   "execution_count": 5,
   "metadata": {
    "collapsed": true
   },
   "outputs": [],
   "source": [
    "cost = tf.reduce_mean(tf.square(hypothesis - Y))"
   ]
  },
  {
   "cell_type": "code",
   "execution_count": null,
   "metadata": {
    "collapsed": true
   },
   "outputs": [],
   "source": []
  },
  {
   "cell_type": "code",
   "execution_count": 6,
   "metadata": {
    "collapsed": true
   },
   "outputs": [],
   "source": [
    "sess = tf.Session()\n",
    "sess.run(tf.global_variables_initializer())"
   ]
  },
  {
   "cell_type": "code",
   "execution_count": null,
   "metadata": {
    "collapsed": true
   },
   "outputs": [],
   "source": []
  },
  {
   "cell_type": "code",
   "execution_count": 7,
   "metadata": {
    "collapsed": false
   },
   "outputs": [],
   "source": [
    "W_val = []\n",
    "cost_val = []"
   ]
  },
  {
   "cell_type": "markdown",
   "metadata": {},
   "source": [
    "W_val, cost_val은 graph의 값을 보기 위한 변수"
   ]
  },
  {
   "cell_type": "code",
   "execution_count": 8,
   "metadata": {
    "collapsed": false
   },
   "outputs": [],
   "source": [
    "for i in range(-30, 50):\n",
    "    feed_W = i * 0.1\n",
    "    curr_cost, curr_W = sess.run([cost, W], feed_dict={W: feed_W})\n",
    "    \n",
    "    W_val.append(curr_W)\n",
    "    cost_val.append(curr_cost)"
   ]
  },
  {
   "cell_type": "code",
   "execution_count": null,
   "metadata": {
    "collapsed": true
   },
   "outputs": [],
   "source": []
  },
  {
   "cell_type": "code",
   "execution_count": 9,
   "metadata": {
    "collapsed": false
   },
   "outputs": [
    {
     "data": {
      "image/png": "[encoded data removed]",
      "text/plain": [
       "<matplotlib.figure.Figure at 0x111671400>"
      ]
     },
     "metadata": {},
     "output_type": "display_data"
    }
   ],
   "source": [
    "plt.plot(W_val, cost_val)\n",
    "plt.show()"
   ]
  },
  {
   "cell_type": "code",
   "execution_count": null,
   "metadata": {
    "collapsed": true
   },
   "outputs": [],
   "source": []
  },
  {
   "cell_type": "code",
   "execution_count": null,
   "metadata": {
    "collapsed": true
   },
   "outputs": [],
   "source": []
  },
  {
   "cell_type": "code",
   "execution_count": 34,
   "metadata": {
    "collapsed": true
   },
   "outputs": [],
   "source": [
    "x_data = [1, 2, 3]\n",
    "y_data = [1, 2, 3]\n",
    "\n",
    "X = tf.placeholder(tf.float32)\n",
    "Y = tf.placeholder(tf.float32)\n",
    "\n",
    "hypothesis = X * W"
   ]
  },
  {
   "cell_type": "code",
   "execution_count": 35,
   "metadata": {
    "collapsed": true
   },
   "outputs": [],
   "source": [
    "W = tf.Variable(tf.random_normal([1]), name=\"weight\")\n",
    "\n",
    "cost = tf.reduce_sum(tf.square(hypothesis - Y))"
   ]
  },
  {
   "cell_type": "code",
   "execution_count": 36,
   "metadata": {
    "collapsed": true
   },
   "outputs": [],
   "source": [
    "learning_rate = 0.1"
   ]
  },
  {
   "cell_type": "code",
   "execution_count": 37,
   "metadata": {
    "collapsed": true
   },
   "outputs": [],
   "source": [
    "gradient = tf.reduce_mean((W * X - Y) * X)"
   ]
  },
  {
   "cell_type": "code",
   "execution_count": 38,
   "metadata": {
    "collapsed": true
   },
   "outputs": [],
   "source": [
    "descent = W - learning_rate * gradient"
   ]
  },
  {
   "cell_type": "code",
   "execution_count": 39,
   "metadata": {
    "collapsed": false
   },
   "outputs": [],
   "source": [
    "update = W.assign(descent)"
   ]
  },
  {
   "cell_type": "code",
   "execution_count": null,
   "metadata": {
    "collapsed": false
   },
   "outputs": [],
   "source": []
  },
  {
   "cell_type": "code",
   "execution_count": null,
   "metadata": {
    "collapsed": true
   },
   "outputs": [],
   "source": []
  },
  {
   "cell_type": "code",
   "execution_count": 40,
   "metadata": {
    "collapsed": false
   },
   "outputs": [
    {
     "name": "stdout",
     "output_type": "stream",
     "text": [
      "0 0.037941724 [0.36581174]\n",
      "1 0.037941724 [0.6617663]\n",
      "2 0.037941724 [0.8196087]\n",
      "3 0.037941724 [0.9037913]\n",
      "4 0.037941724 [0.9486887]\n",
      "5 0.037941724 [0.97263396]\n",
      "6 0.037941724 [0.9854048]\n",
      "7 0.037941724 [0.9922159]\n",
      "8 0.037941724 [0.9958485]\n",
      "9 0.037941724 [0.99778587]\n",
      "10 0.037941724 [0.9988191]\n",
      "11 0.037941724 [0.9993702]\n",
      "12 0.037941724 [0.9996641]\n",
      "13 0.037941724 [0.9998209]\n",
      "14 0.037941724 [0.99990445]\n",
      "15 0.037941724 [0.99994904]\n",
      "16 0.037941724 [0.9999728]\n",
      "17 0.037941724 [0.9999855]\n",
      "18 0.037941724 [0.99999225]\n",
      "19 0.037941724 [0.9999959]\n",
      "20 0.037941724 [0.9999978]\n"
     ]
    }
   ],
   "source": [
    "with tf.Session() as sess:\n",
    "    sess.run(tf.global_variables_initializer())\n",
    "    \n",
    "    for step in range (21):\n",
    "        sess.run(update, feed_dict={X:x_data, Y:y_data})\n",
    "\n",
    "        print(step, sess.run(cost, feed_dict={X:x_data, Y:y_data}), sess.run(W))"
   ]
  },
  {
   "cell_type": "code",
   "execution_count": null,
   "metadata": {
    "collapsed": true
   },
   "outputs": [],
   "source": []
  },
  {
   "cell_type": "code",
   "execution_count": null,
   "metadata": {
    "collapsed": true
   },
   "outputs": [],
   "source": []
  },
  {
   "cell_type": "code",
   "execution_count": null,
   "metadata": {
    "collapsed": true
   },
   "outputs": [],
   "source": []
  },
  {
   "cell_type": "code",
   "execution_count": 47,
   "metadata": {
    "collapsed": false
   },
   "outputs": [
    {
     "name": "stdout",
     "output_type": "stream",
     "text": [
      "0 [74.666664, 5.0, [(74.66667, 5.0)]]\n",
      "1 [60.728886, 4.253333, [(60.728886, 4.253333)]]\n",
      "2 [49.392826, 3.6460443, [(49.39283, 3.6460443)]]\n",
      "3 [40.172832, 3.152116, [(40.172836, 3.152116)]]\n",
      "4 [32.673904, 2.7503877, [(32.673904, 2.7503877)]]\n",
      "5 [26.574774, 2.4236486, [(26.574772, 2.4236486)]]\n",
      "6 [21.61415, 2.1579008, [(21.61415, 2.1579008)]]\n",
      "7 [17.579508, 1.9417593, [(17.57951, 1.9417593)]]\n",
      "8 [14.297999, 1.7659643, [(14.297999, 1.7659643)]]\n",
      "9 [11.62904, 1.6229843, [(11.62904, 1.6229843)]]\n",
      "10 [9.458285, 1.5066938, [(9.458285, 1.5066938)]]\n",
      "11 [7.692739, 1.412111, [(7.6927385, 1.412111)]]\n",
      "12 [6.256761, 1.3351836, [(6.256761, 1.3351836)]]\n",
      "13 [5.088833, 1.272616, [(5.0888333, 1.272616)]]\n",
      "14 [4.1389174, 1.2217277, [(4.138917, 1.2217277)]]\n",
      "15 [3.3663208, 1.1803386, [(3.366321, 1.1803386)]]\n",
      "16 [2.7379417, 1.1466755, [(2.7379417, 1.1466755)]]\n",
      "17 [2.22686, 1.1192961, [(2.22686, 1.1192961)]]\n",
      "18 [1.811179, 1.0970274, [(1.811179, 1.0970274)]]\n",
      "19 [1.4730911, 1.0789156, [(1.4730911, 1.0789156)]]\n",
      "20 [1.1981138, 1.0641847, [(1.1981138, 1.0641847)]]\n",
      "21 [0.97446555, 1.0522035, [(0.97446555, 1.0522035)]]\n",
      "22 [0.7925655, 1.0424589, [(0.7925655, 1.0424589)]]\n",
      "23 [0.6446209, 1.0345333, [(0.6446209, 1.0345333)]]\n",
      "24 [0.52429056, 1.028087, [(0.52429056, 1.028087)]]\n",
      "25 [0.42642274, 1.0228441, [(0.42642277, 1.0228441)]]\n",
      "26 [0.34682322, 1.0185798, [(0.34682322, 1.0185798)]]\n",
      "27 [0.28208303, 1.0151116, [(0.28208303, 1.0151116)]]\n",
      "28 [0.2294267, 1.0122907, [(0.22942671, 1.0122907)]]\n",
      "29 [0.18659973, 1.0099964, [(0.18659973, 1.0099964)]]\n",
      "30 [0.15176757, 1.0081304, [(0.15176758, 1.0081304)]]\n",
      "31 [0.123438515, 1.0066128, [(0.12343852, 1.0066128)]]\n",
      "32 [0.10039663, 1.0053784, [(0.10039663, 1.0053784)]]\n",
      "33 [0.081654705, 1.0043744, [(0.08165471, 1.0043744)]]\n",
      "34 [0.06641277, 1.0035578, [(0.06641277, 1.0035578)]]\n",
      "35 [0.054015476, 1.0028937, [(0.05401548, 1.0028937)]]\n",
      "36 [0.043932438, 1.0023535, [(0.043932438, 1.0023535)]]\n",
      "37 [0.035732906, 1.0019143, [(0.035732906, 1.0019143)]]\n",
      "38 [0.029064337, 1.001557, [(0.029064339, 1.001557)]]\n",
      "39 [0.023638248, 1.0012664, [(0.023638248, 1.0012664)]]\n",
      "40 [0.019226074, 1.00103, [(0.019226074, 1.00103)]]\n",
      "41 [0.015636286, 1.0008377, [(0.015636286, 1.0008377)]]\n",
      "42 [0.01271677, 1.0006813, [(0.01271677, 1.0006813)]]\n",
      "43 [0.010342916, 1.0005541, [(0.0103429165, 1.0005541)]]\n",
      "44 [0.0084114075, 1.0004506, [(0.0084114075, 1.0004506)]]\n",
      "45 [0.006840388, 1.0003664, [(0.0068403883, 1.0003664)]]\n",
      "46 [0.0055631003, 1.000298, [(0.0055631003, 1.000298)]]\n",
      "47 [0.0045243897, 1.0002424, [(0.00452439, 1.0002424)]]\n",
      "48 [0.0036787987, 1.000197, [(0.0036787987, 1.000197)]]\n",
      "49 [0.0029907227, 1.0001602, [(0.0029907227, 1.0001602)]]\n",
      "50 [0.0024326642, 1.0001303, [(0.0024326644, 1.0001303)]]\n",
      "51 [0.0019787152, 1.000106, [(0.0019787154, 1.000106)]]\n",
      "52 [0.0016083717, 1.0000862, [(0.0016083717, 1.0000862)]]\n",
      "53 [0.0013084412, 1.0000701, [(0.0013084412, 1.0000701)]]\n",
      "54 [0.0010636648, 1.000057, [(0.0010636648, 1.000057)]]\n",
      "55 [0.00086609524, 1.0000464, [(0.00086609524, 1.0000464)]]\n",
      "56 [0.00070317584, 1.0000377, [(0.0007031759, 1.0000377)]]\n",
      "57 [0.00057236355, 1.0000306, [(0.00057236355, 1.0000306)]]\n",
      "58 [0.000465552, 1.0000249, [(0.00046555203, 1.0000249)]]\n",
      "59 [0.0003782908, 1.0000203, [(0.00037829083, 1.0000203)]]\n",
      "60 [0.00030708313, 1.0000165, [(0.00030708313, 1.0000165)]]\n",
      "61 [0.0002492269, 1.0000134, [(0.0002492269, 1.0000134)]]\n",
      "62 [0.00020202, 1.0000108, [(0.00020202002, 1.0000108)]]\n",
      "63 [0.00016466777, 1.0000088, [(0.00016466777, 1.0000088)]]\n",
      "64 [0.0001335144, 1.0000072, [(0.0001335144, 1.0000072)]]\n",
      "65 [0.0001095136, 1.0000058, [(0.0001095136, 1.0000058)]]\n",
      "66 [8.9009605e-05, 1.0000048, [(8.9009605e-05, 1.0000048)]]\n",
      "67 [7.390976e-05, 1.0000039, [(7.390976e-05, 1.0000039)]]\n",
      "68 [5.9604645e-05, 1.0000032, [(5.9604645e-05, 1.0000032)]]\n",
      "69 [4.895528e-05, 1.0000026, [(4.8955284e-05, 1.0000026)]]\n",
      "70 [4.005432e-05, 1.0000021, [(4.005432e-05, 1.0000021)]]\n",
      "71 [3.2901764e-05, 1.0000018, [(3.2901764e-05, 1.0000018)]]\n",
      "72 [2.670288e-05, 1.0000014, [(2.670288e-05, 1.0000014)]]\n",
      "73 [2.2252401e-05, 1.0000012, [(2.2252401e-05, 1.0000012)]]\n",
      "74 [1.780192e-05, 1.000001, [(1.7801922e-05, 1.000001)]]\n",
      "75 [1.5099843e-05, 1.0000008, [(1.5099844e-05, 1.0000008)]]\n",
      "76 [1.335144e-05, 1.0000007, [(1.335144e-05, 1.0000007)]]\n",
      "77 [1.1603038e-05, 1.0000006, [(1.1603038e-05, 1.0000006)]]\n",
      "78 [8.90096e-06, 1.0000005, [(8.900961e-06, 1.0000005)]]\n",
      "79 [6.198883e-06, 1.0000004, [(6.198883e-06, 1.0000004)]]\n",
      "80 [4.45048e-06, 1.0000002, [(4.4504804e-06, 1.0000002)]]\n",
      "81 [4.45048e-06, 1.0000002, [(4.4504804e-06, 1.0000002)]]\n",
      "82 [4.45048e-06, 1.0000002, [(4.4504804e-06, 1.0000002)]]\n",
      "83 [4.45048e-06, 1.0000002, [(4.4504804e-06, 1.0000002)]]\n",
      "84 [4.45048e-06, 1.0000002, [(4.4504804e-06, 1.0000002)]]\n",
      "85 [4.45048e-06, 1.0000002, [(4.4504804e-06, 1.0000002)]]\n",
      "86 [4.45048e-06, 1.0000002, [(4.4504804e-06, 1.0000002)]]\n",
      "87 [4.45048e-06, 1.0000002, [(4.4504804e-06, 1.0000002)]]\n",
      "88 [4.45048e-06, 1.0000002, [(4.4504804e-06, 1.0000002)]]\n",
      "89 [4.45048e-06, 1.0000002, [(4.4504804e-06, 1.0000002)]]\n",
      "90 [4.45048e-06, 1.0000002, [(4.4504804e-06, 1.0000002)]]\n",
      "91 [4.45048e-06, 1.0000002, [(4.4504804e-06, 1.0000002)]]\n",
      "92 [4.45048e-06, 1.0000002, [(4.4504804e-06, 1.0000002)]]\n",
      "93 [4.45048e-06, 1.0000002, [(4.4504804e-06, 1.0000002)]]\n",
      "94 [4.45048e-06, 1.0000002, [(4.4504804e-06, 1.0000002)]]\n",
      "95 [4.45048e-06, 1.0000002, [(4.4504804e-06, 1.0000002)]]\n",
      "96 [4.45048e-06, 1.0000002, [(4.4504804e-06, 1.0000002)]]\n",
      "97 [4.45048e-06, 1.0000002, [(4.4504804e-06, 1.0000002)]]\n",
      "98 [4.45048e-06, 1.0000002, [(4.4504804e-06, 1.0000002)]]\n",
      "99 [4.45048e-06, 1.0000002, [(4.4504804e-06, 1.0000002)]]\n"
     ]
    }
   ],
   "source": [
    "X = [1, 2, 3]\n",
    "Y = [1, 2, 3]\n",
    "\n",
    "W = tf.Variable(5.)\n",
    "hypothesis = X * W\n",
    "\n",
    "# Manual gradient\n",
    "gradient = tf.reduce_mean((W * X - Y) * X) * 2 * 2\n",
    "\n",
    "# cost/loss function\n",
    "cost = tf.reduce_mean(tf.square(hypothesis - Y) * 2)\n",
    "optimizer = tf.train.GradientDescentOptimizer(learning_rate=0.01)\n",
    "\n",
    "# Get gradients\n",
    "gvs = optimizer.compute_gradients(cost, [W])\n",
    "# Apply gradients\n",
    "apply_gradients = optimizer.apply_gradients(gvs)\n",
    "\n",
    "# Launch the graph in a session.\n",
    "sess = tf.Session()\n",
    "sess.run(tf.global_variables_initializer())\n",
    "for step in range(100):\n",
    "   print(step, sess.run([gradient, W, gvs]))\n",
    "   sess.run(apply_gradients)"
   ]
  },
  {
   "cell_type": "code",
   "execution_count": null,
   "metadata": {
    "collapsed": true
   },
   "outputs": [],
   "source": []
  },
  {
   "cell_type": "code",
   "execution_count": null,
   "metadata": {
    "collapsed": true
   },
   "outputs": [],
   "source": []
  },
  {
   "cell_type": "code",
   "execution_count": null,
   "metadata": {
    "collapsed": true
   },
   "outputs": [],
   "source": []
  },
  {
   "cell_type": "code",
   "execution_count": 44,
   "metadata": {
    "collapsed": false
   },
   "outputs": [
    {
     "name": "stdout",
     "output_type": "stream",
     "text": [
      "0 0.043966647 [0.902936]\n",
      "1 0.02086516 [0.93313366]\n",
      "2 0.0099019455 [0.9539365]\n",
      "3 0.0046991464 [0.9682674]\n",
      "4 0.002230066 [0.97813976]\n",
      "5 0.0010583191 [0.9849407]\n",
      "6 0.0005022468 [0.9896258]\n",
      "7 0.00023834944 [0.99285334]\n",
      "8 0.00011311014 [0.9950768]\n",
      "9 5.3679698e-05 [0.99660844]\n",
      "10 2.5473308e-05 [0.9976636]\n",
      "11 1.2088825e-05 [0.9983905]\n",
      "12 5.737283e-06 [0.99889123]\n",
      "13 2.7226367e-06 [0.99923617]\n",
      "14 1.2920867e-06 [0.9994738]\n",
      "15 6.1336783e-07 [0.9996375]\n",
      "16 2.9100883e-07 [0.99975026]\n",
      "17 1.3816437e-07 [0.9998279]\n",
      "18 6.560397e-08 [0.99988145]\n",
      "19 3.113722e-08 [0.99991834]\n",
      "20 1.4774439e-08 [0.99994373]\n"
     ]
    }
   ],
   "source": [
    "x_data = [1, 2, 3]\n",
    "y_data = [1, 2, 3]\n",
    "\n",
    "W = tf.Variable(tf.random_normal([1]), name='weight')\n",
    "X = tf.placeholder(tf.float32)\n",
    "Y = tf.placeholder(tf.float32)\n",
    "\n",
    "hypothesis = X * W\n",
    "cost = tf.reduce_mean(tf.square(hypothesis - Y))\n",
    "\n",
    "optimizer = tf.train.GradientDescentOptimizer(learning_rate=0.1/3)\n",
    "train = optimizer.minimize(cost)\n",
    "\n",
    "sess = tf.Session()\n",
    "sess.run(tf.global_variables_initializer())\n",
    "\n",
    "for step in range(21):\n",
    "    sess.run(train, feed_dict = {X: x_data, Y: y_data})\n",
    "    print(step, sess.run(cost, feed_dict={X: x_data, Y: y_data}), sess.run(W))"
   ]
  },
  {
   "cell_type": "code",
   "execution_count": null,
   "metadata": {
    "collapsed": true
   },
   "outputs": [],
   "source": []
  }
 ],
 "metadata": {
  "kernelspec": {
   "display_name": "Python 3",
   "language": "python",
   "name": "python3"
  },
  "language_info": {
   "codemirror_mode": {
    "name": "ipython",
    "version": 3
   },
   "file_extension": ".py",
   "mimetype": "text/x-python",
   "name": "python",
   "nbconvert_exporter": "python",
   "pygments_lexer": "ipython3",
   "version": "3.5.4"
  }
 },
 "nbformat": 4,
 "nbformat_minor": 2
}
